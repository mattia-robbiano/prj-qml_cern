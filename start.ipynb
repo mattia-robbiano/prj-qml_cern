{
 "cells": [
  {
   "cell_type": "markdown",
   "metadata": {},
   "source": [
    "based on https://pennylane.ai/qml/demos/tutorial_qcbm#liu"
   ]
  },
  {
   "cell_type": "markdown",
   "metadata": {},
   "source": [
    "Let $\\{x'\\}$ be a dataset of samples drawn, indipendently, from the same unknown probability distribution $\\pi(x')$. We want to approximate it with a QCBM, treated as an implicit generative model, returning a parametrized quantum state $\\ket{\\psi(\\theta)}$, that we sample to get our probability distribution $p(\\theta)$. To train the circuit we need a loss function comparing the two functions, one possible choice is Maximum Mean Discrepancy. In general, MMD is defined by the idea of representing distances between distributions as distances between mean embeddings of features. The MMD is zero if and only if the two distributions are the same.\n",
    "$$ L(\\theta) = \\left\\| \\sum_x p_\\theta(x) \\phi(x) - \\sum_x \\pi(x) \\phi(x) \\right\\|^2 $$\n",
    "\n",
    "\n",
    "\n",
    "<p align=\"center\">\n",
    "  <img src=\"./img/img_1.1.png\" alt=\"image 1.1\" />\n",
    "</p>\n",
    "\n",
    "\n",
    "For computational and analytical convenience we can reconduct the procedure to the calculation of a kernel function:\n",
    "$$ K(x, y) = \\frac{1}{c} \\sum_{i=1} \\exp\\left(\\frac{|x - y|^2}{2 \\sigma_i^2}\\right) $$\n",
    "\n",
    "where we are avaraging over multiple possible gaussians. We can rewrite the expression for L in terms of K:\n",
    "\n",
    "$$ L = \\mathbb{E}_{x\\sim p_\\theta, y \\sim p_\\theta} \\left[ K(x, y) \\right] - 2 \\mathbb{E}_{x \\sim p_\\theta, y \\sim \\pi} \\left[ K(x, y) \\right] + \\mathbb{E}_{x\\sim \\pi, y \\sim \\pi} \\left[ K(x, y) \\right] = $$\n",
    "$$ =\\sum_{x, y} p(x) p(y) K(x, y)-2 \\sum_{x, y} p(x) \\pi(y) K(x, y)+\\sum_{x, y} \\pi(x) \\pi(y) K(x, y)= $$\n",
    "$$ = \\sum_{x, y} K(x, y)(p(x) p(y)-2 p(x) \\pi(y)+\\pi(x) \\pi(y))= $$\n",
    "$$ = \\sum_{x, y} K(x, y)(p(x)-\\pi(x))(p(y)-\\pi(y)) $$\n",
    "\n"
   ]
  },
  {
   "cell_type": "code",
   "execution_count": 27,
   "metadata": {},
   "outputs": [],
   "source": [
    "import jax\n",
    "import jax.numpy as jnp\n",
    "\n",
    "jax.config.update(\"jax_enable_x64\", True)\n",
    "\n",
    "\n",
    "class MMD:\n",
    "\n",
    "    # Function init takes a list of sigma values and a \"space vector\", containing all possible states in the hilbert \n",
    "    # space: space = (1,...,2^#qubits-1). We will calculate all possible distances between states in the space vector, \n",
    "    # summing the kernel function for each sigma value, to get the kernel matrix K. The operation space[:, None] - space[None, :]\n",
    "    # means the \"difference\" between a row and a column vector, returning a matrix with all possible differences between states.\n",
    "\n",
    "    def __init__(self, SigmaVector, space):\n",
    "        gammas = 1 / (2 * (SigmaVector**2))\n",
    "\n",
    "        sq_dists = jnp.abs(space[:, None] - space[None, :]) ** 2 \n",
    "\n",
    "        self.K = sum(jnp.exp(-gamma * sq_dists) for gamma in gammas) / len(SigmaVector)\n",
    "        self.SigmaVector = SigmaVector\n",
    "\n",
    "    # Function KExpVal calculates the expectation value of the K(x,y) kernel function, where x and y are drawn from px and py\n",
    "    # distributions, respectively. Brief proof of the expectation value calculation for 2 states 0 and 1:\n",
    "    # K = (k00,k01)\n",
    "    #     (k10,k11)\n",
    "    # px = (px0,px1)\n",
    "    # py = (py0,py1)\n",
    "    # KExpVal = px0*py0*k00 + px0*py1*k01 + px1*py0*k10 + px1*py1*k11 = sum(px_i*py_j*kij) for i,j summed over all states (0,1).\n",
    "         \n",
    "    def KExpVal(self, px, py):\n",
    "        return px @ self.K @ py\n",
    "\n",
    "    # Function __call__ (that is called as MMD() function) calculates the MMD between two distributions px and py, where px and py\n",
    "    # are probability vectors (using relaboration proves above).\n",
    "\n",
    "    def __call__(self, px, py):\n",
    "        pxy = px - py\n",
    "        return self.KExpVal(pxy, pxy)"
   ]
  },
  {
   "cell_type": "markdown",
   "metadata": {},
   "source": [
    "Let's define the Quantum Circuit Born Machine as an object that takes in input a parametrized quantum circuit, a loss calculation method and a target distribution, returning the loss value:\n",
    "\n",
    "<p align=\"center\">\n",
    "  <img src=\"./img/img_1.2.png\" alt=\"image 1.1\" />\n",
    "</p>"
   ]
  },
  {
   "cell_type": "code",
   "execution_count": null,
   "metadata": {},
   "outputs": [],
   "source": [
    "from functools import partial\n",
    "\n",
    "class QCBM:\n",
    "\n",
    "    def __init__(self, circ, mmd, py):\n",
    "        self.circ = circ    # our parametric quantum circuit\n",
    "        self.mmd = mmd      # our loss calculation method\n",
    "        self.py = py        # target distribution π(x)\n",
    "\n",
    "    @partial(jax.jit, static_argnums=0) # decorator to speed up the optimization process keeping 1st argument fixed\n",
    "    def MMD_Loss(self, params):\n",
    "        px = self.circ(params)\n",
    "        return self.mmd(px, self.py), px\n"
   ]
  },
  {
   "cell_type": "code",
   "execution_count": 4,
   "metadata": {},
   "outputs": [
    {
     "name": "stdout",
     "output_type": "stream",
     "text": [
      "(14, 9)\n"
     ]
    }
   ],
   "source": [
    "import numpy as np\n",
    "\n",
    "\n",
    "def get_bars_and_stripes(n):\n",
    "    bitstrings = [list(np.binary_repr(i, n))[::-1] for i in range(2**n)]\n",
    "    bitstrings = np.array(bitstrings, dtype=int)\n",
    "\n",
    "    stripes = bitstrings.copy()\n",
    "    stripes = np.repeat(stripes, n, 0)\n",
    "    stripes = stripes.reshape(2**n, n * n)\n",
    "\n",
    "    bars = bitstrings.copy()\n",
    "    bars = bars.reshape(2**n * n, 1)\n",
    "    bars = np.repeat(bars, n, 1)\n",
    "    bars = bars.reshape(2**n, n * n)\n",
    "    return np.vstack((stripes[0 : stripes.shape[0] - 1], bars[1 : bars.shape[0]]))\n",
    "\n",
    "\n",
    "n = 3\n",
    "size = n**2\n",
    "data = get_bars_and_stripes(n)\n",
    "print(data.shape)\n"
   ]
  },
  {
   "cell_type": "code",
   "execution_count": 5,
   "metadata": {},
   "outputs": [
    {
     "name": "stdout",
     "output_type": "stream",
     "text": [
      "\n",
      "Sample bitstring: 100100100\n"
     ]
    },
    {
     "data": {
      "image/png": "[encoded data removed]",
      "text/plain": [
       "<Figure size 200x200 with 1 Axes>"
      ]
     },
     "metadata": {},
     "output_type": "display_data"
    }
   ],
   "source": [
    "import matplotlib.pyplot as plt\n",
    "\n",
    "sample = data[1].reshape(n, n)\n",
    "\n",
    "plt.figure(figsize=(2, 2))\n",
    "plt.imshow(sample, cmap=\"gray\", vmin=0, vmax=1)\n",
    "plt.grid(color=\"gray\", linewidth=2)\n",
    "plt.xticks([])\n",
    "plt.yticks([])\n",
    "\n",
    "for i in range(n):\n",
    "    for j in range(n):\n",
    "        text = plt.text(\n",
    "            i,\n",
    "            j,\n",
    "            sample[j][i],\n",
    "            ha=\"center\",\n",
    "            va=\"center\",\n",
    "            color=\"gray\",\n",
    "            fontsize=12,\n",
    "        )\n",
    "\n",
    "print(f\"\\nSample bitstring: {''.join(np.array(sample.flatten(), dtype='str'))}\")\n"
   ]
  },
  {
   "cell_type": "code",
   "execution_count": 6,
   "metadata": {},
   "outputs": [
    {
     "data": {
      "image/png": "[encoded data removed]",
      "text/plain": [
       "<Figure size 400x400 with 14 Axes>"
      ]
     },
     "metadata": {},
     "output_type": "display_data"
    }
   ],
   "source": [
    "plt.figure(figsize=(4, 4))\n",
    "j = 1\n",
    "for i in data:\n",
    "    plt.subplot(4, 4, j)\n",
    "    j += 1\n",
    "    plt.imshow(np.reshape(i, (n, n)), cmap=\"gray\", vmin=0, vmax=1)\n",
    "    plt.xticks([])\n",
    "    plt.yticks([])\n"
   ]
  },
  {
   "cell_type": "code",
   "execution_count": 7,
   "metadata": {},
   "outputs": [
    {
     "name": "stdout",
     "output_type": "stream",
     "text": [
      "[0, 292, 146, 438, 73, 365, 219, 448, 56, 504, 7, 455, 63, 511]\n"
     ]
    }
   ],
   "source": [
    "bitstrings = []\n",
    "nums = []\n",
    "for d in data:\n",
    "    bitstrings += [\"\".join(str(int(i)) for i in d)]\n",
    "    nums += [int(bitstrings[-1], 2)]\n",
    "print(nums)\n"
   ]
  },
  {
   "cell_type": "code",
   "execution_count": 8,
   "metadata": {},
   "outputs": [
    {
     "data": {
      "image/png": "[encoded data removed]",
      "text/plain": [
       "<Figure size 1200x500 with 1 Axes>"
      ]
     },
     "metadata": {},
     "output_type": "display_data"
    }
   ],
   "source": [
    "probs = np.zeros(2**size)\n",
    "probs[nums] = 1 / len(data)\n",
    "\n",
    "plt.figure(figsize=(12, 5))\n",
    "plt.bar(np.arange(2**size), probs, width=2.0, label=r\"$\\pi(x)$\")\n",
    "plt.xticks(nums, bitstrings, rotation=80)\n",
    "\n",
    "plt.xlabel(\"Samples\")\n",
    "plt.ylabel(\"Prob. Distribution\")\n",
    "plt.legend(loc=\"upper right\")\n",
    "plt.subplots_adjust(bottom=0.3)\n",
    "plt.show()\n"
   ]
  },
  {
   "cell_type": "code",
   "execution_count": 9,
   "metadata": {},
   "outputs": [],
   "source": [
    "import pennylane as qml\n",
    "\n",
    "np.random.seed(42)\n",
    "\n",
    "\n",
    "n_qubits = size\n",
    "dev = qml.device(\"default.qubit\", wires=n_qubits)\n",
    "\n",
    "n_layers = 6\n",
    "wshape = qml.StronglyEntanglingLayers.shape(n_layers=n_layers, n_wires=n_qubits)\n",
    "weights = np.random.random(size=wshape)\n",
    "\n",
    "\n",
    "@qml.qnode(dev)\n",
    "def circuit(weights):\n",
    "    qml.StronglyEntanglingLayers(weights=weights, ranges=[1] * n_layers, wires=range(n_qubits))\n",
    "    return qml.probs()\n",
    "\n",
    "\n",
    "jit_circuit = jax.jit(circuit)\n"
   ]
  },
  {
   "cell_type": "code",
   "execution_count": 10,
   "metadata": {},
   "outputs": [],
   "source": [
    "import optax\n",
    "\n",
    "bandwidth = jnp.array([0.25, 0.5, 1])\n",
    "space = jnp.arange(2**n_qubits)\n",
    "\n",
    "mmd = MMD(bandwidth, space)\n",
    "qcbm = QCBM(jit_circuit, mmd, probs)\n",
    "\n",
    "opt = optax.adam(learning_rate=0.1)\n",
    "opt_state = opt.init(weights)\n"
   ]
  },
  {
   "cell_type": "code",
   "execution_count": 11,
   "metadata": {},
   "outputs": [
    {
     "ename": "AttributeError",
     "evalue": "'QCBM' object has no attribute 'mmd_loss'",
     "output_type": "error",
     "traceback": [
      "\u001b[0;31m---------------------------------------------------------------------------\u001b[0m",
      "\u001b[0;31mAttributeError\u001b[0m                            Traceback (most recent call last)",
      "Cell \u001b[0;32mIn[11], line 15\u001b[0m\n\u001b[1;32m     12\u001b[0m n_iterations \u001b[38;5;241m=\u001b[39m \u001b[38;5;241m100\u001b[39m\n\u001b[1;32m     14\u001b[0m \u001b[38;5;28;01mfor\u001b[39;00m i \u001b[38;5;129;01min\u001b[39;00m \u001b[38;5;28mrange\u001b[39m(n_iterations):\n\u001b[0;32m---> 15\u001b[0m     weights, opt_state, loss_val, kl_div \u001b[38;5;241m=\u001b[39m \u001b[43mupdate_step\u001b[49m\u001b[43m(\u001b[49m\u001b[43mweights\u001b[49m\u001b[43m,\u001b[49m\u001b[43m \u001b[49m\u001b[43mopt_state\u001b[49m\u001b[43m)\u001b[49m\n\u001b[1;32m     17\u001b[0m     \u001b[38;5;28;01mif\u001b[39;00m i \u001b[38;5;241m%\u001b[39m \u001b[38;5;241m10\u001b[39m \u001b[38;5;241m==\u001b[39m \u001b[38;5;241m0\u001b[39m:\n\u001b[1;32m     18\u001b[0m         \u001b[38;5;28mprint\u001b[39m(\u001b[38;5;124mf\u001b[39m\u001b[38;5;124m\"\u001b[39m\u001b[38;5;124mStep: \u001b[39m\u001b[38;5;132;01m{\u001b[39;00mi\u001b[38;5;132;01m}\u001b[39;00m\u001b[38;5;124m Loss: \u001b[39m\u001b[38;5;132;01m{\u001b[39;00mloss_val\u001b[38;5;132;01m:\u001b[39;00m\u001b[38;5;124m.4f\u001b[39m\u001b[38;5;132;01m}\u001b[39;00m\u001b[38;5;124m KL-div: \u001b[39m\u001b[38;5;132;01m{\u001b[39;00mkl_div\u001b[38;5;132;01m:\u001b[39;00m\u001b[38;5;124m.4f\u001b[39m\u001b[38;5;132;01m}\u001b[39;00m\u001b[38;5;124m\"\u001b[39m)\n",
      "    \u001b[0;31m[... skipping hidden 11 frame]\u001b[0m\n",
      "Cell \u001b[0;32mIn[11], line 3\u001b[0m, in \u001b[0;36mupdate_step\u001b[0;34m(params, opt_state)\u001b[0m\n\u001b[1;32m      1\u001b[0m \u001b[38;5;129m@jax\u001b[39m\u001b[38;5;241m.\u001b[39mjit\n\u001b[1;32m      2\u001b[0m \u001b[38;5;28;01mdef\u001b[39;00m \u001b[38;5;21mupdate_step\u001b[39m(params, opt_state):\n\u001b[0;32m----> 3\u001b[0m     (loss_val, qcbm_probs), grads \u001b[38;5;241m=\u001b[39m jax\u001b[38;5;241m.\u001b[39mvalue_and_grad(\u001b[43mqcbm\u001b[49m\u001b[38;5;241;43m.\u001b[39;49m\u001b[43mmmd_loss\u001b[49m, has_aux\u001b[38;5;241m=\u001b[39m\u001b[38;5;28;01mTrue\u001b[39;00m)(params)\n\u001b[1;32m      4\u001b[0m     updates, opt_state \u001b[38;5;241m=\u001b[39m opt\u001b[38;5;241m.\u001b[39mupdate(grads, opt_state)\n\u001b[1;32m      5\u001b[0m     params \u001b[38;5;241m=\u001b[39m optax\u001b[38;5;241m.\u001b[39mapply_updates(params, updates)\n",
      "\u001b[0;31mAttributeError\u001b[0m: 'QCBM' object has no attribute 'mmd_loss'"
     ]
    }
   ],
   "source": [
    "@jax.jit\n",
    "def update_step(params, opt_state):\n",
    "    (loss_val, qcbm_probs), grads = jax.value_and_grad(qcbm.mmd_loss, has_aux=True)(params)\n",
    "    updates, opt_state = opt.update(grads, opt_state)\n",
    "    params = optax.apply_updates(params, updates)\n",
    "    kl_div = -jnp.sum(qcbm.py * jnp.nan_to_num(jnp.log(qcbm_probs / qcbm.py)))\n",
    "    return params, opt_state, loss_val, kl_div\n",
    "\n",
    "mmd\n",
    "history = []\n",
    "divs = []\n",
    "n_iterations = 100\n",
    "\n",
    "for i in range(n_iterations):\n",
    "    weights, opt_state, loss_val, kl_div = update_step(weights, opt_state)\n",
    "\n",
    "    if i % 10 == 0:\n",
    "        print(f\"Step: {i} Loss: {loss_val:.4f} KL-div: {kl_div:.4f}\")\n",
    "\n",
    "    history.append(loss_val)\n",
    "    divs.append(kl_div)\n"
   ]
  }
 ],
 "metadata": {
  "kernelspec": {
   "display_name": "venv",
   "language": "python",
   "name": "python3"
  },
  "language_info": {
   "codemirror_mode": {
    "name": "ipython",
    "version": 3
   },
   "file_extension": ".py",
   "mimetype": "text/x-python",
   "name": "python",
   "nbconvert_exporter": "python",
   "pygments_lexer": "ipython3",
   "version": "3.11.2"
  }
 },
 "nbformat": 4,
 "nbformat_minor": 2
}
