{
 "cells": [
  {
   "cell_type": "markdown",
   "metadata": {},
   "source": [
    "based on https://pennylane.ai/qml/demos/tutorial_qcbm#liu"
   ]
  },
  {
   "cell_type": "markdown",
   "metadata": {},
   "source": [
    "Let $\\{x'\\}$ be a dataset of samples drawn, indipendently, from the same unknown probability distribution $\\pi(x')$. We want to approximate it with a QCBM, treated as an implicit generative model, returning a \n",
    "\n",
    "$$ L(\\theta) = \\left\\| \\sum_x p_\\theta(x) \\phi(x) - \\sum_x \\pi(x) \\phi(x) \\right\\|^2 $$\n",
    "$$ K(x, y) = \\frac{1}{c} \\sum_{i=1} \\exp\\left(\\frac{|x - y|^2}{2 \\sigma_i^2}\\right) $$\n",
    "$$ L = \\mathbb{E}_{x, y \\sim p_\\theta} \\left[ K(x, y) \\right] - 2 \\mathbb{E}_{x \\sim p_\\theta, y \\sim \\pi} \\left[ K(x, y) \\right] + \\mathbb{E}_{x, y \\sim \\pi} \\left[ K(x, y) \\right] $$\n",
    "\n"
   ]
  },
  {
   "cell_type": "code",
   "execution_count": null,
   "metadata": {},
   "outputs": [],
   "source": [
    "import jax\n",
    "import jax.numpy as jnp\n",
    "\n",
    "jax.config.update(\"jax_enable_x64\", True)\n",
    "\n",
    "# Maximum Mean Discrepancy: \n",
    "# to train the QCBM, we use the squared maximum mean discrepancy (MMD) as the loss function. We map the \n",
    "# quantum states to a feature space using the quantum kernel, and then calculate the MMD between the two\n",
    "# distributions. The MMD is defined as the distance between the mean embeddings of the two distributions in \n",
    "# the feature space. The MMD is a measure of the difference between two distributions, and it is zero if and \n",
    "# only if the two distributions are the same.\n",
    "\n",
    "class MMD:\n",
    "\n",
    "    def __init__(self, scales, space):\n",
    "        gammas = 1 / (2 * (scales**2))\n",
    "        sq_dists = jnp.abs(space[:, None] - space[None, :]) ** 2\n",
    "        self.K = sum(jnp.exp(-gamma * sq_dists) for gamma in gammas) / len(scales)\n",
    "        self.scales = scales\n",
    "\n",
    "    def k_expval(self, px, py):\n",
    "        # Kernel expectation value\n",
    "        return px @ self.K @ py\n",
    "\n",
    "    def __call__(self, px, py):\n",
    "        pxy = px - py\n",
    "        return self.k_expval(pxy, pxy)\n"
   ]
  },
  {
   "cell_type": "code",
   "execution_count": 4,
   "metadata": {},
   "outputs": [],
   "source": [
    "from functools import partial\n",
    "\n",
    "\n",
    "class QCBM:\n",
    "\n",
    "    def __init__(self, circ, mmd, py):\n",
    "        self.circ = circ\n",
    "        self.mmd = mmd\n",
    "        self.py = py  # target distribution π(x)\n",
    "\n",
    "    @partial(jax.jit, static_argnums=0) # decorator to speed up the function optimization by \n",
    "    def MMD_Loss(self, params):\n",
    "        px = self.circ(params)\n",
    "        return self.mmd(px, self.py), px\n"
   ]
  }
 ],
 "metadata": {
  "kernelspec": {
   "display_name": "venv",
   "language": "python",
   "name": "python3"
  },
  "language_info": {
   "codemirror_mode": {
    "name": "ipython",
    "version": 3
   },
   "file_extension": ".py",
   "mimetype": "text/x-python",
   "name": "python",
   "nbconvert_exporter": "python",
   "pygments_lexer": "ipython3",
   "version": "3.11.2"
  }
 },
 "nbformat": 4,
 "nbformat_minor": 2
}
